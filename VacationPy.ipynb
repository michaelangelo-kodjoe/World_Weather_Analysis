{
 "cells": [
  {
   "cell_type": "code",
   "execution_count": 35,
   "id": "a2b5eb13",
   "metadata": {},
   "outputs": [],
   "source": [
    "import pandas as pd\n",
    "from config import g_key\n",
    "import gmaps\n",
    "import requests"
   ]
  },
  {
   "cell_type": "code",
   "execution_count": 36,
   "id": "bb8a4867",
   "metadata": {},
   "outputs": [],
   "source": [
    "city_data_df = pd.read_csv('weather_data/cities.csv')"
   ]
  },
  {
   "cell_type": "code",
   "execution_count": 37,
   "id": "a985a05b",
   "metadata": {},
   "outputs": [
    {
     "data": {
      "text/html": [
       "<div>\n",
       "<style scoped>\n",
       "    .dataframe tbody tr th:only-of-type {\n",
       "        vertical-align: middle;\n",
       "    }\n",
       "\n",
       "    .dataframe tbody tr th {\n",
       "        vertical-align: top;\n",
       "    }\n",
       "\n",
       "    .dataframe thead th {\n",
       "        text-align: right;\n",
       "    }\n",
       "</style>\n",
       "<table border=\"1\" class=\"dataframe\">\n",
       "  <thead>\n",
       "    <tr style=\"text-align: right;\">\n",
       "      <th></th>\n",
       "      <th>City_ID</th>\n",
       "      <th>City</th>\n",
       "      <th>Country</th>\n",
       "      <th>Date</th>\n",
       "      <th>Lat</th>\n",
       "      <th>Lng</th>\n",
       "      <th>Max Temp</th>\n",
       "      <th>Humidity</th>\n",
       "      <th>Cloudiness</th>\n",
       "      <th>Wind Speed</th>\n",
       "    </tr>\n",
       "  </thead>\n",
       "  <tbody>\n",
       "    <tr>\n",
       "      <th>0</th>\n",
       "      <td>0</td>\n",
       "      <td>San Patricio</td>\n",
       "      <td>US</td>\n",
       "      <td>2022-03-31 13:29:01</td>\n",
       "      <td>28.0170</td>\n",
       "      <td>-97.5169</td>\n",
       "      <td>66.06</td>\n",
       "      <td>61</td>\n",
       "      <td>2</td>\n",
       "      <td>7.14</td>\n",
       "    </tr>\n",
       "    <tr>\n",
       "      <th>1</th>\n",
       "      <td>1</td>\n",
       "      <td>Naples</td>\n",
       "      <td>IT</td>\n",
       "      <td>2022-03-31 13:29:01</td>\n",
       "      <td>40.8333</td>\n",
       "      <td>14.2500</td>\n",
       "      <td>62.60</td>\n",
       "      <td>89</td>\n",
       "      <td>75</td>\n",
       "      <td>12.66</td>\n",
       "    </tr>\n",
       "    <tr>\n",
       "      <th>2</th>\n",
       "      <td>2</td>\n",
       "      <td>Saint-Philippe</td>\n",
       "      <td>RE</td>\n",
       "      <td>2022-03-31 13:29:02</td>\n",
       "      <td>-21.3585</td>\n",
       "      <td>55.7679</td>\n",
       "      <td>80.19</td>\n",
       "      <td>69</td>\n",
       "      <td>50</td>\n",
       "      <td>16.22</td>\n",
       "    </tr>\n",
       "    <tr>\n",
       "      <th>3</th>\n",
       "      <td>3</td>\n",
       "      <td>Norman Wells</td>\n",
       "      <td>CA</td>\n",
       "      <td>2022-03-31 13:29:02</td>\n",
       "      <td>65.2820</td>\n",
       "      <td>-126.8329</td>\n",
       "      <td>-14.76</td>\n",
       "      <td>64</td>\n",
       "      <td>40</td>\n",
       "      <td>14.97</td>\n",
       "    </tr>\n",
       "    <tr>\n",
       "      <th>4</th>\n",
       "      <td>4</td>\n",
       "      <td>New Norfolk</td>\n",
       "      <td>AU</td>\n",
       "      <td>2022-03-31 13:29:03</td>\n",
       "      <td>-42.7826</td>\n",
       "      <td>147.0587</td>\n",
       "      <td>54.90</td>\n",
       "      <td>66</td>\n",
       "      <td>46</td>\n",
       "      <td>2.75</td>\n",
       "    </tr>\n",
       "  </tbody>\n",
       "</table>\n",
       "</div>"
      ],
      "text/plain": [
       "   City_ID            City Country                 Date      Lat       Lng  \\\n",
       "0        0    San Patricio      US  2022-03-31 13:29:01  28.0170  -97.5169   \n",
       "1        1          Naples      IT  2022-03-31 13:29:01  40.8333   14.2500   \n",
       "2        2  Saint-Philippe      RE  2022-03-31 13:29:02 -21.3585   55.7679   \n",
       "3        3    Norman Wells      CA  2022-03-31 13:29:02  65.2820 -126.8329   \n",
       "4        4     New Norfolk      AU  2022-03-31 13:29:03 -42.7826  147.0587   \n",
       "\n",
       "   Max Temp  Humidity  Cloudiness  Wind Speed  \n",
       "0     66.06        61           2        7.14  \n",
       "1     62.60        89          75       12.66  \n",
       "2     80.19        69          50       16.22  \n",
       "3    -14.76        64          40       14.97  \n",
       "4     54.90        66          46        2.75  "
      ]
     },
     "execution_count": 37,
     "metadata": {},
     "output_type": "execute_result"
    }
   ],
   "source": [
    "city_data_df.head()"
   ]
  },
  {
   "cell_type": "code",
   "execution_count": 38,
   "id": "d53e9c28",
   "metadata": {},
   "outputs": [],
   "source": [
    "# Configure gmaps to use your Google API key.\n",
    "gmaps.configure(api_key=g_key)"
   ]
  },
  {
   "cell_type": "code",
   "execution_count": 39,
   "id": "a3891729",
   "metadata": {},
   "outputs": [
    {
     "data": {
      "application/vnd.jupyter.widget-view+json": {
       "model_id": "eaeb1b582d9e4453912e10caed48dbb2",
       "version_major": 2,
       "version_minor": 0
      },
      "text/plain": [
       "Figure(layout=FigureLayout(height='420px'))"
      ]
     },
     "metadata": {},
     "output_type": "display_data"
    }
   ],
   "source": [
    "# Percent Humidity\n",
    "# Assign the locations variable\n",
    "locations = city_data_df[['Lat','Lng']]\n",
    "humidity = city_data_df['Humidity']\n",
    "# Figure of heat map\n",
    "fig = gmaps.figure(center=(30.0, 31.0), zoom_level=1.5)\n",
    "#heat map of humidity\n",
    "heat_map = gmaps.heatmap_layer(locations, weights=humidity, dissipating=False, max_intensity = 200, point_radius=4)\n",
    "# Add the heatmap layer.\n",
    "fig.add_layer(heat_map)\n",
    "# Call the figure to plot the data.\n",
    "fig"
   ]
  },
  {
   "cell_type": "code",
   "execution_count": 40,
   "id": "12597d21",
   "metadata": {},
   "outputs": [
    {
     "data": {
      "application/vnd.jupyter.widget-view+json": {
       "model_id": "c56e5e2373a24c94968860f185671677",
       "version_major": 2,
       "version_minor": 0
      },
      "text/plain": [
       "Figure(layout=FigureLayout(height='420px'))"
      ]
     },
     "metadata": {},
     "output_type": "display_data"
    }
   ],
   "source": [
    "# Heatmap of temperature\n",
    "# Get the latitude and longitude.\n",
    "locations = city_data_df[[\"Lat\", \"Lng\"]]\n",
    "wind_speed = city_data_df['Wind Speed']\n",
    "# Assign the figure variable.\n",
    "fig = gmaps.figure(center=(30.0, 31.0), zoom_level=1.8)\n",
    "# Assign the heatmap variable.\n",
    "heat_layer = gmaps.heatmap_layer(locations, weights=wind_speed,\n",
    "                                 dissipating= False, max_intensity= 300, point_radius=4)\n",
    "# Add the heatmap layer.\n",
    "fig.add_layer(heat_layer)\n",
    "# Call the figure to plot the data.\n",
    "fig\n"
   ]
  },
  {
   "cell_type": "code",
   "execution_count": 41,
   "id": "04ff0596",
   "metadata": {},
   "outputs": [
    {
     "name": "stdout",
     "output_type": "stream",
     "text": [
      "What is the minimum temperature you would like for your trip? 75\n",
      "What is the maximum temperature you would like for your trip? 90\n"
     ]
    }
   ],
   "source": [
    "# Ask the customer to add a minimum and maximum temperature value.\n",
    "min_temp = float(input(\"What is the minimum temperature you would like for your trip? \"))\n",
    "max_temp = float(input(\"What is the maximum temperature you would like for your trip? \"))\n"
   ]
  },
  {
   "cell_type": "code",
   "execution_count": 42,
   "id": "3ee099ea",
   "metadata": {},
   "outputs": [
    {
     "data": {
      "text/plain": [
       "City_ID       165\n",
       "City          165\n",
       "Country       163\n",
       "Date          165\n",
       "Lat           165\n",
       "Lng           165\n",
       "Max Temp      165\n",
       "Humidity      165\n",
       "Cloudiness    165\n",
       "Wind Speed    165\n",
       "dtype: int64"
      ]
     },
     "execution_count": 42,
     "metadata": {},
     "output_type": "execute_result"
    }
   ],
   "source": [
    "# New dataframe for getting min and max temp\n",
    "preferred_cities_df = city_data_df.loc[(city_data_df['Max Temp']<= max_temp) & (city_data_df['Max Temp'] >= min_temp)]\n",
    "preferred_cities_df.count()"
   ]
  },
  {
   "cell_type": "code",
   "execution_count": 43,
   "id": "7181bae9",
   "metadata": {},
   "outputs": [],
   "source": [
    "preferred_cities_df = preferred_cities_df.dropna()"
   ]
  },
  {
   "cell_type": "code",
   "execution_count": 44,
   "id": "92cde475",
   "metadata": {},
   "outputs": [
    {
     "data": {
      "text/plain": [
       "City_ID       163\n",
       "City          163\n",
       "Country       163\n",
       "Date          163\n",
       "Lat           163\n",
       "Lng           163\n",
       "Max Temp      163\n",
       "Humidity      163\n",
       "Cloudiness    163\n",
       "Wind Speed    163\n",
       "dtype: int64"
      ]
     },
     "execution_count": 44,
     "metadata": {},
     "output_type": "execute_result"
    }
   ],
   "source": [
    "preferred_cities_df.count()"
   ]
  },
  {
   "cell_type": "code",
   "execution_count": 45,
   "id": "339b1ff1",
   "metadata": {},
   "outputs": [
    {
     "data": {
      "text/html": [
       "<div>\n",
       "<style scoped>\n",
       "    .dataframe tbody tr th:only-of-type {\n",
       "        vertical-align: middle;\n",
       "    }\n",
       "\n",
       "    .dataframe tbody tr th {\n",
       "        vertical-align: top;\n",
       "    }\n",
       "\n",
       "    .dataframe thead th {\n",
       "        text-align: right;\n",
       "    }\n",
       "</style>\n",
       "<table border=\"1\" class=\"dataframe\">\n",
       "  <thead>\n",
       "    <tr style=\"text-align: right;\">\n",
       "      <th></th>\n",
       "      <th>City</th>\n",
       "      <th>Country</th>\n",
       "      <th>Max Temp</th>\n",
       "      <th>Lat</th>\n",
       "      <th>Lng</th>\n",
       "      <th>Hotel Name</th>\n",
       "    </tr>\n",
       "  </thead>\n",
       "  <tbody>\n",
       "    <tr>\n",
       "      <th>2</th>\n",
       "      <td>Saint-Philippe</td>\n",
       "      <td>RE</td>\n",
       "      <td>80.19</td>\n",
       "      <td>-21.3585</td>\n",
       "      <td>55.7679</td>\n",
       "      <td></td>\n",
       "    </tr>\n",
       "    <tr>\n",
       "      <th>17</th>\n",
       "      <td>Rikitea</td>\n",
       "      <td>PF</td>\n",
       "      <td>77.79</td>\n",
       "      <td>-23.1203</td>\n",
       "      <td>-134.9692</td>\n",
       "      <td></td>\n",
       "    </tr>\n",
       "    <tr>\n",
       "      <th>20</th>\n",
       "      <td>Kulhudhuffushi</td>\n",
       "      <td>MV</td>\n",
       "      <td>84.22</td>\n",
       "      <td>6.6221</td>\n",
       "      <td>73.0700</td>\n",
       "      <td></td>\n",
       "    </tr>\n",
       "    <tr>\n",
       "      <th>22</th>\n",
       "      <td>Faya</td>\n",
       "      <td>SA</td>\n",
       "      <td>78.91</td>\n",
       "      <td>18.3851</td>\n",
       "      <td>42.4509</td>\n",
       "      <td></td>\n",
       "    </tr>\n",
       "    <tr>\n",
       "      <th>24</th>\n",
       "      <td>Lhokseumawe</td>\n",
       "      <td>ID</td>\n",
       "      <td>80.73</td>\n",
       "      <td>5.1801</td>\n",
       "      <td>97.1507</td>\n",
       "      <td></td>\n",
       "    </tr>\n",
       "    <tr>\n",
       "      <th>37</th>\n",
       "      <td>Darnah</td>\n",
       "      <td>LY</td>\n",
       "      <td>79.36</td>\n",
       "      <td>32.7670</td>\n",
       "      <td>22.6367</td>\n",
       "      <td></td>\n",
       "    </tr>\n",
       "    <tr>\n",
       "      <th>38</th>\n",
       "      <td>Banda Aceh</td>\n",
       "      <td>ID</td>\n",
       "      <td>81.14</td>\n",
       "      <td>5.5577</td>\n",
       "      <td>95.3222</td>\n",
       "      <td></td>\n",
       "    </tr>\n",
       "    <tr>\n",
       "      <th>42</th>\n",
       "      <td>Akyab</td>\n",
       "      <td>MM</td>\n",
       "      <td>80.46</td>\n",
       "      <td>20.1500</td>\n",
       "      <td>92.9000</td>\n",
       "      <td></td>\n",
       "    </tr>\n",
       "    <tr>\n",
       "      <th>47</th>\n",
       "      <td>Atuona</td>\n",
       "      <td>PF</td>\n",
       "      <td>78.28</td>\n",
       "      <td>-9.8000</td>\n",
       "      <td>-139.0333</td>\n",
       "      <td></td>\n",
       "    </tr>\n",
       "    <tr>\n",
       "      <th>58</th>\n",
       "      <td>The Valley</td>\n",
       "      <td>AI</td>\n",
       "      <td>80.10</td>\n",
       "      <td>18.2170</td>\n",
       "      <td>-63.0578</td>\n",
       "      <td></td>\n",
       "    </tr>\n",
       "  </tbody>\n",
       "</table>\n",
       "</div>"
      ],
      "text/plain": [
       "              City Country  Max Temp      Lat       Lng Hotel Name\n",
       "2   Saint-Philippe      RE     80.19 -21.3585   55.7679           \n",
       "17         Rikitea      PF     77.79 -23.1203 -134.9692           \n",
       "20  Kulhudhuffushi      MV     84.22   6.6221   73.0700           \n",
       "22            Faya      SA     78.91  18.3851   42.4509           \n",
       "24     Lhokseumawe      ID     80.73   5.1801   97.1507           \n",
       "37          Darnah      LY     79.36  32.7670   22.6367           \n",
       "38      Banda Aceh      ID     81.14   5.5577   95.3222           \n",
       "42           Akyab      MM     80.46  20.1500   92.9000           \n",
       "47          Atuona      PF     78.28  -9.8000 -139.0333           \n",
       "58      The Valley      AI     80.10  18.2170  -63.0578           "
      ]
     },
     "execution_count": 45,
     "metadata": {},
     "output_type": "execute_result"
    }
   ],
   "source": [
    "# Create DataFrame called hotel_df to store hotel names along with city, country, max temp, and coordinates.\n",
    "hotel_df = preferred_cities_df[[\"City\", \"Country\", \"Max Temp\", \"Lat\", \"Lng\"]].copy()\n",
    "hotel_df[\"Hotel Name\"] = \"\"\n",
    "hotel_df.head(10)"
   ]
  },
  {
   "cell_type": "code",
   "execution_count": 49,
   "id": "a9dd02d3",
   "metadata": {},
   "outputs": [],
   "source": [
    "# Set parameters to search for a hotel.\n",
    "params = {\n",
    "    \"radius\": 5000,\n",
    "    \"type\": \"lodging\",\n",
    "    \"key\": g_key\n",
    "}"
   ]
  },
  {
   "cell_type": "code",
   "execution_count": 52,
   "id": "575504b3",
   "metadata": {},
   "outputs": [
    {
     "name": "stdout",
     "output_type": "stream",
     "text": [
      "Hotel not found... skipping.\n",
      "Hotel not found... skipping.\n",
      "Hotel not found... skipping.\n",
      "Hotel not found... skipping.\n",
      "Hotel not found... skipping.\n",
      "Hotel not found... skipping.\n",
      "Hotel not found... skipping.\n",
      "Hotel not found... skipping.\n",
      "Hotel not found... skipping.\n",
      "Hotel not found... skipping.\n",
      "Hotel not found... skipping.\n",
      "Hotel not found... skipping.\n",
      "Hotel not found... skipping.\n",
      "Hotel not found... skipping.\n",
      "Hotel not found... skipping.\n",
      "Hotel not found... skipping.\n",
      "Hotel not found... skipping.\n"
     ]
    }
   ],
   "source": [
    "# Iterate through the DataFrame.\n",
    "for index, row in hotel_df.iterrows():\n",
    "    # Get the latitude and longitude.\n",
    "    lat = row[\"Lat\"]\n",
    "    lng = row[\"Lng\"]\n",
    "\n",
    "    # Add the latitude and longitude to location key for the params dictionary.\n",
    "    params[\"location\"] = f\"{lat},{lng}\"\n",
    "\n",
    "    # Use the search term: \"lodging\" and our latitude and longitude.\n",
    "    base_url = \"https://maps.googleapis.com/maps/api/place/nearbysearch/json\"\n",
    "    # Make request and get the JSON data from the search.\n",
    "    hotels = requests.get(base_url, params=params).json()\n",
    "    # Grab the first hotel from the results and store the name.\n",
    "   # Grab the first hotel from the results and store the name.\n",
    "    try:\n",
    "        hotel_df.loc[index, \"Hotel Name\"] = hotels[\"results\"][0][\"name\"]\n",
    "    except (IndexError):\n",
    "        print(\"Hotel not found... skipping.\")\n"
   ]
  },
  {
   "cell_type": "code",
   "execution_count": 53,
   "id": "cfe93c2f",
   "metadata": {},
   "outputs": [
    {
     "data": {
      "text/html": [
       "<div>\n",
       "<style scoped>\n",
       "    .dataframe tbody tr th:only-of-type {\n",
       "        vertical-align: middle;\n",
       "    }\n",
       "\n",
       "    .dataframe tbody tr th {\n",
       "        vertical-align: top;\n",
       "    }\n",
       "\n",
       "    .dataframe thead th {\n",
       "        text-align: right;\n",
       "    }\n",
       "</style>\n",
       "<table border=\"1\" class=\"dataframe\">\n",
       "  <thead>\n",
       "    <tr style=\"text-align: right;\">\n",
       "      <th></th>\n",
       "      <th>City</th>\n",
       "      <th>Country</th>\n",
       "      <th>Max Temp</th>\n",
       "      <th>Lat</th>\n",
       "      <th>Lng</th>\n",
       "      <th>Hotel Name</th>\n",
       "    </tr>\n",
       "  </thead>\n",
       "  <tbody>\n",
       "    <tr>\n",
       "      <th>2</th>\n",
       "      <td>Saint-Philippe</td>\n",
       "      <td>RE</td>\n",
       "      <td>80.19</td>\n",
       "      <td>-21.3585</td>\n",
       "      <td>55.7679</td>\n",
       "      <td>Chambres d'hôte \"La Trinité\"</td>\n",
       "    </tr>\n",
       "    <tr>\n",
       "      <th>17</th>\n",
       "      <td>Rikitea</td>\n",
       "      <td>PF</td>\n",
       "      <td>77.79</td>\n",
       "      <td>-23.1203</td>\n",
       "      <td>-134.9692</td>\n",
       "      <td>People ThankYou</td>\n",
       "    </tr>\n",
       "    <tr>\n",
       "      <th>20</th>\n",
       "      <td>Kulhudhuffushi</td>\n",
       "      <td>MV</td>\n",
       "      <td>84.22</td>\n",
       "      <td>6.6221</td>\n",
       "      <td>73.0700</td>\n",
       "      <td>Haajy Guest House 1</td>\n",
       "    </tr>\n",
       "    <tr>\n",
       "      <th>22</th>\n",
       "      <td>Faya</td>\n",
       "      <td>SA</td>\n",
       "      <td>78.91</td>\n",
       "      <td>18.3851</td>\n",
       "      <td>42.4509</td>\n",
       "      <td>املاك خالد الشعشوع</td>\n",
       "    </tr>\n",
       "    <tr>\n",
       "      <th>24</th>\n",
       "      <td>Lhokseumawe</td>\n",
       "      <td>ID</td>\n",
       "      <td>80.73</td>\n",
       "      <td>5.1801</td>\n",
       "      <td>97.1507</td>\n",
       "      <td>OYO 3278 Penginapan Alfajri</td>\n",
       "    </tr>\n",
       "  </tbody>\n",
       "</table>\n",
       "</div>"
      ],
      "text/plain": [
       "              City Country  Max Temp      Lat       Lng  \\\n",
       "2   Saint-Philippe      RE     80.19 -21.3585   55.7679   \n",
       "17         Rikitea      PF     77.79 -23.1203 -134.9692   \n",
       "20  Kulhudhuffushi      MV     84.22   6.6221   73.0700   \n",
       "22            Faya      SA     78.91  18.3851   42.4509   \n",
       "24     Lhokseumawe      ID     80.73   5.1801   97.1507   \n",
       "\n",
       "                      Hotel Name  \n",
       "2   Chambres d'hôte \"La Trinité\"  \n",
       "17               People ThankYou  \n",
       "20           Haajy Guest House 1  \n",
       "22            املاك خالد الشعشوع  \n",
       "24   OYO 3278 Penginapan Alfajri  "
      ]
     },
     "execution_count": 53,
     "metadata": {},
     "output_type": "execute_result"
    }
   ],
   "source": [
    "hotel_df.head()"
   ]
  },
  {
   "cell_type": "code",
   "execution_count": 54,
   "id": "98d14796",
   "metadata": {},
   "outputs": [
    {
     "data": {
      "application/vnd.jupyter.widget-view+json": {
       "model_id": "c5a427e81d4040fba0b19255c16e257d",
       "version_major": 2,
       "version_minor": 0
      },
      "text/plain": [
       "Figure(layout=FigureLayout(height='420px'))"
      ]
     },
     "metadata": {},
     "output_type": "display_data"
    }
   ],
   "source": [
    "# Add a heatmap of temperature for the vacation spots and marker for each city.\n",
    "locations = hotel_df[[\"Lat\", \"Lng\"]]\n",
    "max_temp = hotel_df[\"Max Temp\"]\n",
    "fig = gmaps.figure(center=(30.0, 31.0), zoom_level=1.5)\n",
    "heat_layer = gmaps.heatmap_layer(locations, weights=max_temp,\n",
    "             dissipating=False, max_intensity=300, point_radius=4)\n",
    "marker_layer = gmaps.marker_layer(locations)\n",
    "fig.add_layer(heat_layer)\n",
    "fig.add_layer(marker_layer)\n",
    "# Call the figure to plot the data.\n",
    "fig"
   ]
  },
  {
   "cell_type": "code",
   "execution_count": 55,
   "id": "ba00398c",
   "metadata": {},
   "outputs": [],
   "source": [
    "info_box_template = \"\"\"\n",
    "<dl>\n",
    "<dt>Hotel Name</dt><dd>{Hotel Name}</dd>\n",
    "<dt>City</dt><dd>{City}</dd>\n",
    "<dt>Country</dt><dd>{Country}</dd>\n",
    "<dt>Max Temp</dt><dd>{Max Temp} °F</dd>\n",
    "</dl>\n",
    "\"\"\""
   ]
  },
  {
   "cell_type": "code",
   "execution_count": 56,
   "id": "9e8f5104",
   "metadata": {},
   "outputs": [],
   "source": [
    "# Store the DataFrame Row.\n",
    "hotel_info = [info_box_template.format(**row) for index, row in hotel_df.iterrows()]"
   ]
  },
  {
   "cell_type": "code",
   "execution_count": 57,
   "id": "5642fdf1",
   "metadata": {},
   "outputs": [
    {
     "data": {
      "application/vnd.jupyter.widget-view+json": {
       "model_id": "a0afdd58c304412c84af6c22d49d626e",
       "version_major": 2,
       "version_minor": 0
      },
      "text/plain": [
       "Figure(layout=FigureLayout(height='420px'))"
      ]
     },
     "metadata": {},
     "output_type": "display_data"
    }
   ],
   "source": [
    "# Add a heatmap of temperature for the vacation spots and a pop-up marker for each city.\n",
    "locations = hotel_df[[\"Lat\", \"Lng\"]]\n",
    "max_temp = hotel_df[\"Max Temp\"]\n",
    "fig = gmaps.figure(center=(30.0, 31.0), zoom_level=1.5)\n",
    "heat_layer = gmaps.heatmap_layer(locations, weights=max_temp,dissipating=False,\n",
    "             max_intensity=300, point_radius=4)\n",
    "marker_layer = gmaps.marker_layer(locations, info_box_content=hotel_info)\n",
    "fig.add_layer(heat_layer)\n",
    "fig.add_layer(marker_layer)\n",
    "\n",
    "# Call the figure to plot the data.\n",
    "fig"
   ]
  },
  {
   "cell_type": "code",
   "execution_count": null,
   "id": "01940b81",
   "metadata": {},
   "outputs": [],
   "source": []
  }
 ],
 "metadata": {
  "kernelspec": {
   "display_name": "Python 3 (ipykernel)",
   "language": "python",
   "name": "python3"
  },
  "language_info": {
   "codemirror_mode": {
    "name": "ipython",
    "version": 3
   },
   "file_extension": ".py",
   "mimetype": "text/x-python",
   "name": "python",
   "nbconvert_exporter": "python",
   "pygments_lexer": "ipython3",
   "version": "3.9.7"
  }
 },
 "nbformat": 4,
 "nbformat_minor": 5
}
